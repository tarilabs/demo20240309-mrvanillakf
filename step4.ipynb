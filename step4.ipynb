{
 "cells": [
  {
   "cell_type": "code",
   "execution_count": 8,
   "id": "05c9541a-71a0-4688-a2bb-5e4852587405",
   "metadata": {
    "tags": []
   },
   "outputs": [],
   "source": [
    "from model_registry import ModelRegistry\n",
    "\n",
    "registry = ModelRegistry(server_address=\"model-registry-service.kubeflow.svc.cluster.local\", port=9090, author=\"mmortari\")\n",
    "\n",
    "import_version=\"v20231206163028\" # version in our registry to be imported under/as.\n",
    "\n",
    "hf_model = registry.register_hf_model(\n",
    "    \"tarilabs/mnist\",  # HF repo\n",
    "    \"mnist.onnx\",\n",
    "    version=import_version,\n",
    "    git_ref='v20231206163028',\n",
    "    model_name=\"mnist\",\n",
    "    description=\"lorem ipsum\",\n",
    "    model_format_name=\"onnx\",\n",
    "    model_format_version=\"1\",\n",
    ")\n",
    "print(hf_model)"
   ]
  },
  {
   "cell_type": "code",
   "execution_count": 12,
   "id": "4618caa7-a298-4b01-9200-bc5a9aa24993",
   "metadata": {
    "tags": []
   },
   "outputs": [
    {
     "name": "stdout",
     "output_type": "stream",
     "text": [
      "ModelVersion:\n",
      "ModelVersion(name='v20231206163028', id='6', description='lorem ipsum', external_id='', create_time_since_epoch=1709991978067, last_update_time_since_epoch=1709991978067, state=<ContextState.LIVE: 'LIVE'>, model_name='mnist', version='v20231206163028', author='tarilabs', metadata={'source_uri': 'https://huggingface.co/tarilabs/mnist/resolve/v20231206163028/mnist.onnx', 'license': 'apache-2.0', 'repo': 'tarilabs/mnist', 'model_origin': 'huggingface_hub', 'model_author': 'tarilabs'}, artifacts=NOTHING, _registered_model_id=NOTHING)\n"
     ]
    }
   ],
   "source": [
    "print(\"ModelVersion:\")\n",
    "version = registry.get_model_version(hf_model.name, import_version)\n",
    "print(version)"
   ]
  },
  {
   "cell_type": "code",
   "execution_count": 13,
   "id": "f4e1b998-fef5-4193-8411-ae3f613da8b2",
   "metadata": {
    "tags": []
   },
   "outputs": [
    {
     "name": "stdout",
     "output_type": "stream",
     "text": [
      "ModelArtifact:\n",
      "ModelArtifact(id='5', description='', external_id='', create_time_since_epoch=1709991978216, last_update_time_since_epoch=1709991978216, name='mnist', uri='https://huggingface.co/tarilabs/mnist/resolve/v20231206163028/mnist.onnx', state=<ArtifactState.UNKNOWN: 0>, model_format_name='onnx', model_format_version='1', storage_key='', storage_path='mnist.onnx', service_account_name='', _model_version_id=NOTHING)\n"
     ]
    }
   ],
   "source": [
    "print(\"ModelArtifact:\")\n",
    "print(registry.get_model_artifact(hf_model.name, import_version))"
   ]
  },
  {
   "cell_type": "code",
   "execution_count": null,
   "id": "d7194a60-f603-433d-9915-a7a155136383",
   "metadata": {},
   "outputs": [],
   "source": []
  }
 ],
 "metadata": {
  "kernelspec": {
   "display_name": "Python 3 (ipykernel)",
   "language": "python",
   "name": "python3"
  },
  "language_info": {
   "codemirror_mode": {
    "name": "ipython",
    "version": 3
   },
   "file_extension": ".py",
   "mimetype": "text/x-python",
   "name": "python",
   "nbconvert_exporter": "python",
   "pygments_lexer": "ipython3",
   "version": "3.11.6"
  }
 },
 "nbformat": 4,
 "nbformat_minor": 5
}
