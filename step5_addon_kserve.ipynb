{
 "cells": [
  {
   "cell_type": "code",
   "execution_count": null,
   "id": "d482b3bb-f363-4ca7-a127-26ae24617881",
   "metadata": {},
   "outputs": [],
   "source": [
    "!pip install kserve"
   ]
  },
  {
   "cell_type": "code",
   "execution_count": 2,
   "id": "a38cbeda-eb60-4469-b861-559950886453",
   "metadata": {},
   "outputs": [],
   "source": [
    "from kubernetes import client \n",
    "from kserve import KServeClient\n",
    "from kserve import constants\n",
    "from kserve import utils\n",
    "from kserve import V1beta1InferenceService\n",
    "from kserve import V1beta1InferenceServiceSpec\n",
    "from kserve import V1beta1PredictorSpec\n",
    "from kserve import V1beta1SKLearnSpec\n",
    "from kserve import V1beta1ModelSpec\n",
    "from kserve import V1beta1ModelFormat"
   ]
  },
  {
   "cell_type": "code",
   "execution_count": 3,
   "id": "6a621ac9-1847-4249-b12a-76cf23620534",
   "metadata": {},
   "outputs": [],
   "source": [
    "namespace = utils.get_default_target_namespace()"
   ]
  },
  {
   "cell_type": "code",
   "execution_count": 4,
   "id": "9a7f9b69-a305-482b-a9e1-0b706ba11341",
   "metadata": {},
   "outputs": [],
   "source": [
    "name='mnist'\n",
    "kserve_version='v1beta1'\n",
    "api_version = constants.KSERVE_GROUP + '/' + kserve_version\n",
    "\n",
    "isvc = V1beta1InferenceService(api_version=api_version,\n",
    "                               kind=constants.KSERVE_KIND,\n",
    "                               metadata=client.V1ObjectMeta(\n",
    "                                   name=name, namespace=namespace, annotations={'sidecar.istio.io/inject':'false'}),\n",
    "                               spec=V1beta1InferenceServiceSpec(\n",
    "                               predictor=V1beta1PredictorSpec(\n",
    "                                 model=V1beta1ModelSpec(\n",
    "                                     storage_uri='https://huggingface.co/tarilabs/mnist/resolve/v20231206163028/mnist.onnx?download=true',\n",
    "                                     model_format=V1beta1ModelFormat(name='onnx', version='1')\n",
    "                                 )\n",
    "                               )))"
   ]
  },
  {
   "cell_type": "code",
   "execution_count": null,
   "id": "f8ef0696-7520-4476-96e8-778017f1d075",
   "metadata": {},
   "outputs": [],
   "source": [
    "KServe = KServeClient()\n",
    "KServe.create(isvc)"
   ]
  },
  {
   "cell_type": "code",
   "execution_count": null,
   "id": "0a61e1fc",
   "metadata": {},
   "outputs": [],
   "source": [
    "KServe.get(name, namespace=namespace, watch=True, timeout_seconds=120)"
   ]
  }
 ],
 "metadata": {
  "kernelspec": {
   "display_name": "Python 3",
   "language": "python",
   "name": "python3"
  },
  "language_info": {
   "codemirror_mode": {
    "name": "ipython",
    "version": 3
   },
   "file_extension": ".py",
   "mimetype": "text/x-python",
   "name": "python",
   "nbconvert_exporter": "python",
   "pygments_lexer": "ipython3",
   "version": "3.10.13"
  }
 },
 "nbformat": 4,
 "nbformat_minor": 5
}
